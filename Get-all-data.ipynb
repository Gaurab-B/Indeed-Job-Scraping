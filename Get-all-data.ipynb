{
 "cells": [
  {
   "cell_type": "code",
   "execution_count": 1,
   "id": "189f78f0",
   "metadata": {},
   "outputs": [],
   "source": [
    "from selenium import webdriver\n",
    "from selenium.webdriver.common.by import By\n",
    "from selenium.webdriver.chrome.service import Service\n",
    "from selenium.webdriver.chrome.options import Options\n",
    "import time"
   ]
  },
  {
   "cell_type": "code",
   "execution_count": 2,
   "id": "cbbc0d6a",
   "metadata": {},
   "outputs": [],
   "source": [
    "base_url = \"https://www.indeed.com/jobs?q=artificial+intelligence&l=United+States&start=\""
   ]
  },
  {
   "cell_type": "code",
   "execution_count": 3,
   "id": "c061fecd",
   "metadata": {},
   "outputs": [],
   "source": [
    "# Generate URLs with different 'start' values\n",
    "start_values = range(0, 1001, 10)  # From 0 to 100, stepping by 10\n",
    "urls = [base_url + str(start) for start in start_values]"
   ]
  },
  {
   "cell_type": "code",
   "execution_count": 4,
   "id": "c5dec4f8",
   "metadata": {},
   "outputs": [
    {
     "name": "stdout",
     "output_type": "stream",
     "text": [
      "['https://www.indeed.com/jobs?q=artificial+intelligence&l=United+States&start=0', 'https://www.indeed.com/jobs?q=artificial+intelligence&l=United+States&start=10', 'https://www.indeed.com/jobs?q=artificial+intelligence&l=United+States&start=20', 'https://www.indeed.com/jobs?q=artificial+intelligence&l=United+States&start=30', 'https://www.indeed.com/jobs?q=artificial+intelligence&l=United+States&start=40', 'https://www.indeed.com/jobs?q=artificial+intelligence&l=United+States&start=50', 'https://www.indeed.com/jobs?q=artificial+intelligence&l=United+States&start=60', 'https://www.indeed.com/jobs?q=artificial+intelligence&l=United+States&start=70', 'https://www.indeed.com/jobs?q=artificial+intelligence&l=United+States&start=80', 'https://www.indeed.com/jobs?q=artificial+intelligence&l=United+States&start=90', 'https://www.indeed.com/jobs?q=artificial+intelligence&l=United+States&start=100', 'https://www.indeed.com/jobs?q=artificial+intelligence&l=United+States&start=110', 'https://www.indeed.com/jobs?q=artificial+intelligence&l=United+States&start=120', 'https://www.indeed.com/jobs?q=artificial+intelligence&l=United+States&start=130', 'https://www.indeed.com/jobs?q=artificial+intelligence&l=United+States&start=140', 'https://www.indeed.com/jobs?q=artificial+intelligence&l=United+States&start=150', 'https://www.indeed.com/jobs?q=artificial+intelligence&l=United+States&start=160', 'https://www.indeed.com/jobs?q=artificial+intelligence&l=United+States&start=170', 'https://www.indeed.com/jobs?q=artificial+intelligence&l=United+States&start=180', 'https://www.indeed.com/jobs?q=artificial+intelligence&l=United+States&start=190', 'https://www.indeed.com/jobs?q=artificial+intelligence&l=United+States&start=200', 'https://www.indeed.com/jobs?q=artificial+intelligence&l=United+States&start=210', 'https://www.indeed.com/jobs?q=artificial+intelligence&l=United+States&start=220', 'https://www.indeed.com/jobs?q=artificial+intelligence&l=United+States&start=230', 'https://www.indeed.com/jobs?q=artificial+intelligence&l=United+States&start=240', 'https://www.indeed.com/jobs?q=artificial+intelligence&l=United+States&start=250', 'https://www.indeed.com/jobs?q=artificial+intelligence&l=United+States&start=260', 'https://www.indeed.com/jobs?q=artificial+intelligence&l=United+States&start=270', 'https://www.indeed.com/jobs?q=artificial+intelligence&l=United+States&start=280', 'https://www.indeed.com/jobs?q=artificial+intelligence&l=United+States&start=290', 'https://www.indeed.com/jobs?q=artificial+intelligence&l=United+States&start=300', 'https://www.indeed.com/jobs?q=artificial+intelligence&l=United+States&start=310', 'https://www.indeed.com/jobs?q=artificial+intelligence&l=United+States&start=320', 'https://www.indeed.com/jobs?q=artificial+intelligence&l=United+States&start=330', 'https://www.indeed.com/jobs?q=artificial+intelligence&l=United+States&start=340', 'https://www.indeed.com/jobs?q=artificial+intelligence&l=United+States&start=350', 'https://www.indeed.com/jobs?q=artificial+intelligence&l=United+States&start=360', 'https://www.indeed.com/jobs?q=artificial+intelligence&l=United+States&start=370', 'https://www.indeed.com/jobs?q=artificial+intelligence&l=United+States&start=380', 'https://www.indeed.com/jobs?q=artificial+intelligence&l=United+States&start=390', 'https://www.indeed.com/jobs?q=artificial+intelligence&l=United+States&start=400', 'https://www.indeed.com/jobs?q=artificial+intelligence&l=United+States&start=410', 'https://www.indeed.com/jobs?q=artificial+intelligence&l=United+States&start=420', 'https://www.indeed.com/jobs?q=artificial+intelligence&l=United+States&start=430', 'https://www.indeed.com/jobs?q=artificial+intelligence&l=United+States&start=440', 'https://www.indeed.com/jobs?q=artificial+intelligence&l=United+States&start=450', 'https://www.indeed.com/jobs?q=artificial+intelligence&l=United+States&start=460', 'https://www.indeed.com/jobs?q=artificial+intelligence&l=United+States&start=470', 'https://www.indeed.com/jobs?q=artificial+intelligence&l=United+States&start=480', 'https://www.indeed.com/jobs?q=artificial+intelligence&l=United+States&start=490', 'https://www.indeed.com/jobs?q=artificial+intelligence&l=United+States&start=500', 'https://www.indeed.com/jobs?q=artificial+intelligence&l=United+States&start=510', 'https://www.indeed.com/jobs?q=artificial+intelligence&l=United+States&start=520', 'https://www.indeed.com/jobs?q=artificial+intelligence&l=United+States&start=530', 'https://www.indeed.com/jobs?q=artificial+intelligence&l=United+States&start=540', 'https://www.indeed.com/jobs?q=artificial+intelligence&l=United+States&start=550', 'https://www.indeed.com/jobs?q=artificial+intelligence&l=United+States&start=560', 'https://www.indeed.com/jobs?q=artificial+intelligence&l=United+States&start=570', 'https://www.indeed.com/jobs?q=artificial+intelligence&l=United+States&start=580', 'https://www.indeed.com/jobs?q=artificial+intelligence&l=United+States&start=590', 'https://www.indeed.com/jobs?q=artificial+intelligence&l=United+States&start=600', 'https://www.indeed.com/jobs?q=artificial+intelligence&l=United+States&start=610', 'https://www.indeed.com/jobs?q=artificial+intelligence&l=United+States&start=620', 'https://www.indeed.com/jobs?q=artificial+intelligence&l=United+States&start=630', 'https://www.indeed.com/jobs?q=artificial+intelligence&l=United+States&start=640', 'https://www.indeed.com/jobs?q=artificial+intelligence&l=United+States&start=650', 'https://www.indeed.com/jobs?q=artificial+intelligence&l=United+States&start=660', 'https://www.indeed.com/jobs?q=artificial+intelligence&l=United+States&start=670', 'https://www.indeed.com/jobs?q=artificial+intelligence&l=United+States&start=680', 'https://www.indeed.com/jobs?q=artificial+intelligence&l=United+States&start=690', 'https://www.indeed.com/jobs?q=artificial+intelligence&l=United+States&start=700', 'https://www.indeed.com/jobs?q=artificial+intelligence&l=United+States&start=710', 'https://www.indeed.com/jobs?q=artificial+intelligence&l=United+States&start=720', 'https://www.indeed.com/jobs?q=artificial+intelligence&l=United+States&start=730', 'https://www.indeed.com/jobs?q=artificial+intelligence&l=United+States&start=740', 'https://www.indeed.com/jobs?q=artificial+intelligence&l=United+States&start=750', 'https://www.indeed.com/jobs?q=artificial+intelligence&l=United+States&start=760', 'https://www.indeed.com/jobs?q=artificial+intelligence&l=United+States&start=770', 'https://www.indeed.com/jobs?q=artificial+intelligence&l=United+States&start=780', 'https://www.indeed.com/jobs?q=artificial+intelligence&l=United+States&start=790', 'https://www.indeed.com/jobs?q=artificial+intelligence&l=United+States&start=800', 'https://www.indeed.com/jobs?q=artificial+intelligence&l=United+States&start=810', 'https://www.indeed.com/jobs?q=artificial+intelligence&l=United+States&start=820', 'https://www.indeed.com/jobs?q=artificial+intelligence&l=United+States&start=830', 'https://www.indeed.com/jobs?q=artificial+intelligence&l=United+States&start=840', 'https://www.indeed.com/jobs?q=artificial+intelligence&l=United+States&start=850', 'https://www.indeed.com/jobs?q=artificial+intelligence&l=United+States&start=860', 'https://www.indeed.com/jobs?q=artificial+intelligence&l=United+States&start=870', 'https://www.indeed.com/jobs?q=artificial+intelligence&l=United+States&start=880', 'https://www.indeed.com/jobs?q=artificial+intelligence&l=United+States&start=890', 'https://www.indeed.com/jobs?q=artificial+intelligence&l=United+States&start=900', 'https://www.indeed.com/jobs?q=artificial+intelligence&l=United+States&start=910', 'https://www.indeed.com/jobs?q=artificial+intelligence&l=United+States&start=920', 'https://www.indeed.com/jobs?q=artificial+intelligence&l=United+States&start=930', 'https://www.indeed.com/jobs?q=artificial+intelligence&l=United+States&start=940', 'https://www.indeed.com/jobs?q=artificial+intelligence&l=United+States&start=950', 'https://www.indeed.com/jobs?q=artificial+intelligence&l=United+States&start=960', 'https://www.indeed.com/jobs?q=artificial+intelligence&l=United+States&start=970', 'https://www.indeed.com/jobs?q=artificial+intelligence&l=United+States&start=980', 'https://www.indeed.com/jobs?q=artificial+intelligence&l=United+States&start=990', 'https://www.indeed.com/jobs?q=artificial+intelligence&l=United+States&start=1000']\n"
     ]
    }
   ],
   "source": [
    "print(urls)  # Print URLs to verify\n"
   ]
  },
  {
   "cell_type": "code",
   "execution_count": 5,
   "id": "79a7fe4e",
   "metadata": {},
   "outputs": [],
   "source": [
    "# Set up Chrome options\n",
    "options = Options()\n",
    "options.headless = True  # Run in headless mode"
   ]
  },
  {
   "cell_type": "code",
   "execution_count": 6,
   "id": "021b2a46",
   "metadata": {},
   "outputs": [],
   "source": [
    "chrome_driver_path = r\"C:\\Users\\gauur\\projects\\WEB SCRAPE\\Indeed-Job-Scraping\\chromedriver.exe\""
   ]
  },
  {
   "cell_type": "code",
   "execution_count": 7,
   "id": "1d18c256",
   "metadata": {},
   "outputs": [
    {
     "data": {
      "text/plain": [
       "<selenium.webdriver.chrome.service.Service at 0x2586c631790>"
      ]
     },
     "execution_count": 7,
     "metadata": {},
     "output_type": "execute_result"
    }
   ],
   "source": [
    "service = Service(chrome_driver_path)\n",
    "service"
   ]
  },
  {
   "cell_type": "code",
   "execution_count": 8,
   "id": "3f197133",
   "metadata": {},
   "outputs": [
    {
     "data": {
      "text/plain": [
       "<selenium.webdriver.chrome.webdriver.WebDriver (session=\"2944ff5de5c6c7eb1005aa00120ba6e5\")>"
      ]
     },
     "execution_count": 8,
     "metadata": {},
     "output_type": "execute_result"
    }
   ],
   "source": [
    "driver = webdriver.Chrome(service=service, options=options)\n",
    "driver"
   ]
  },
  {
   "cell_type": "code",
   "execution_count": 9,
   "id": "f7f03138",
   "metadata": {},
   "outputs": [
    {
     "name": "stdout",
     "output_type": "stream",
     "text": [
      "Saved https://www.indeed.com/jobs?q=artificial+intelligence&l=United+States&start=0 to page_1.txt\n",
      "Saved https://www.indeed.com/jobs?q=artificial+intelligence&l=United+States&start=10 to page_2.txt\n",
      "Saved https://www.indeed.com/jobs?q=artificial+intelligence&l=United+States&start=20 to page_3.txt\n",
      "Saved https://www.indeed.com/jobs?q=artificial+intelligence&l=United+States&start=30 to page_4.txt\n",
      "Saved https://www.indeed.com/jobs?q=artificial+intelligence&l=United+States&start=40 to page_5.txt\n",
      "Saved https://www.indeed.com/jobs?q=artificial+intelligence&l=United+States&start=50 to page_6.txt\n",
      "Saved https://www.indeed.com/jobs?q=artificial+intelligence&l=United+States&start=60 to page_7.txt\n",
      "Saved https://www.indeed.com/jobs?q=artificial+intelligence&l=United+States&start=70 to page_8.txt\n",
      "Saved https://www.indeed.com/jobs?q=artificial+intelligence&l=United+States&start=80 to page_9.txt\n",
      "Saved https://www.indeed.com/jobs?q=artificial+intelligence&l=United+States&start=90 to page_10.txt\n",
      "Saved https://www.indeed.com/jobs?q=artificial+intelligence&l=United+States&start=100 to page_11.txt\n",
      "Saved https://www.indeed.com/jobs?q=artificial+intelligence&l=United+States&start=110 to page_12.txt\n",
      "Saved https://www.indeed.com/jobs?q=artificial+intelligence&l=United+States&start=120 to page_13.txt\n",
      "Saved https://www.indeed.com/jobs?q=artificial+intelligence&l=United+States&start=130 to page_14.txt\n",
      "Saved https://www.indeed.com/jobs?q=artificial+intelligence&l=United+States&start=140 to page_15.txt\n",
      "Saved https://www.indeed.com/jobs?q=artificial+intelligence&l=United+States&start=150 to page_16.txt\n",
      "Saved https://www.indeed.com/jobs?q=artificial+intelligence&l=United+States&start=160 to page_17.txt\n",
      "Saved https://www.indeed.com/jobs?q=artificial+intelligence&l=United+States&start=170 to page_18.txt\n",
      "Saved https://www.indeed.com/jobs?q=artificial+intelligence&l=United+States&start=180 to page_19.txt\n",
      "Saved https://www.indeed.com/jobs?q=artificial+intelligence&l=United+States&start=190 to page_20.txt\n",
      "Saved https://www.indeed.com/jobs?q=artificial+intelligence&l=United+States&start=200 to page_21.txt\n",
      "Saved https://www.indeed.com/jobs?q=artificial+intelligence&l=United+States&start=210 to page_22.txt\n",
      "Saved https://www.indeed.com/jobs?q=artificial+intelligence&l=United+States&start=220 to page_23.txt\n",
      "Saved https://www.indeed.com/jobs?q=artificial+intelligence&l=United+States&start=230 to page_24.txt\n",
      "Saved https://www.indeed.com/jobs?q=artificial+intelligence&l=United+States&start=240 to page_25.txt\n",
      "Saved https://www.indeed.com/jobs?q=artificial+intelligence&l=United+States&start=250 to page_26.txt\n",
      "Saved https://www.indeed.com/jobs?q=artificial+intelligence&l=United+States&start=260 to page_27.txt\n",
      "Saved https://www.indeed.com/jobs?q=artificial+intelligence&l=United+States&start=270 to page_28.txt\n",
      "Saved https://www.indeed.com/jobs?q=artificial+intelligence&l=United+States&start=280 to page_29.txt\n",
      "Saved https://www.indeed.com/jobs?q=artificial+intelligence&l=United+States&start=290 to page_30.txt\n",
      "Saved https://www.indeed.com/jobs?q=artificial+intelligence&l=United+States&start=300 to page_31.txt\n",
      "Saved https://www.indeed.com/jobs?q=artificial+intelligence&l=United+States&start=310 to page_32.txt\n",
      "Saved https://www.indeed.com/jobs?q=artificial+intelligence&l=United+States&start=320 to page_33.txt\n",
      "Saved https://www.indeed.com/jobs?q=artificial+intelligence&l=United+States&start=330 to page_34.txt\n",
      "Saved https://www.indeed.com/jobs?q=artificial+intelligence&l=United+States&start=340 to page_35.txt\n",
      "Saved https://www.indeed.com/jobs?q=artificial+intelligence&l=United+States&start=350 to page_36.txt\n",
      "Saved https://www.indeed.com/jobs?q=artificial+intelligence&l=United+States&start=360 to page_37.txt\n",
      "Saved https://www.indeed.com/jobs?q=artificial+intelligence&l=United+States&start=370 to page_38.txt\n",
      "Saved https://www.indeed.com/jobs?q=artificial+intelligence&l=United+States&start=380 to page_39.txt\n",
      "Saved https://www.indeed.com/jobs?q=artificial+intelligence&l=United+States&start=390 to page_40.txt\n",
      "Saved https://www.indeed.com/jobs?q=artificial+intelligence&l=United+States&start=400 to page_41.txt\n",
      "Saved https://www.indeed.com/jobs?q=artificial+intelligence&l=United+States&start=410 to page_42.txt\n",
      "Saved https://www.indeed.com/jobs?q=artificial+intelligence&l=United+States&start=420 to page_43.txt\n",
      "Saved https://www.indeed.com/jobs?q=artificial+intelligence&l=United+States&start=430 to page_44.txt\n",
      "Saved https://www.indeed.com/jobs?q=artificial+intelligence&l=United+States&start=440 to page_45.txt\n",
      "Saved https://www.indeed.com/jobs?q=artificial+intelligence&l=United+States&start=450 to page_46.txt\n",
      "Saved https://www.indeed.com/jobs?q=artificial+intelligence&l=United+States&start=460 to page_47.txt\n",
      "Saved https://www.indeed.com/jobs?q=artificial+intelligence&l=United+States&start=470 to page_48.txt\n",
      "Saved https://www.indeed.com/jobs?q=artificial+intelligence&l=United+States&start=480 to page_49.txt\n",
      "Saved https://www.indeed.com/jobs?q=artificial+intelligence&l=United+States&start=490 to page_50.txt\n",
      "Saved https://www.indeed.com/jobs?q=artificial+intelligence&l=United+States&start=500 to page_51.txt\n",
      "Saved https://www.indeed.com/jobs?q=artificial+intelligence&l=United+States&start=510 to page_52.txt\n",
      "Saved https://www.indeed.com/jobs?q=artificial+intelligence&l=United+States&start=520 to page_53.txt\n",
      "Saved https://www.indeed.com/jobs?q=artificial+intelligence&l=United+States&start=530 to page_54.txt\n",
      "Saved https://www.indeed.com/jobs?q=artificial+intelligence&l=United+States&start=540 to page_55.txt\n",
      "Saved https://www.indeed.com/jobs?q=artificial+intelligence&l=United+States&start=550 to page_56.txt\n",
      "Saved https://www.indeed.com/jobs?q=artificial+intelligence&l=United+States&start=560 to page_57.txt\n",
      "Saved https://www.indeed.com/jobs?q=artificial+intelligence&l=United+States&start=570 to page_58.txt\n",
      "Saved https://www.indeed.com/jobs?q=artificial+intelligence&l=United+States&start=580 to page_59.txt\n",
      "Saved https://www.indeed.com/jobs?q=artificial+intelligence&l=United+States&start=590 to page_60.txt\n",
      "Saved https://www.indeed.com/jobs?q=artificial+intelligence&l=United+States&start=600 to page_61.txt\n",
      "Saved https://www.indeed.com/jobs?q=artificial+intelligence&l=United+States&start=610 to page_62.txt\n",
      "Saved https://www.indeed.com/jobs?q=artificial+intelligence&l=United+States&start=620 to page_63.txt\n",
      "Saved https://www.indeed.com/jobs?q=artificial+intelligence&l=United+States&start=630 to page_64.txt\n",
      "Saved https://www.indeed.com/jobs?q=artificial+intelligence&l=United+States&start=640 to page_65.txt\n",
      "Saved https://www.indeed.com/jobs?q=artificial+intelligence&l=United+States&start=650 to page_66.txt\n",
      "Saved https://www.indeed.com/jobs?q=artificial+intelligence&l=United+States&start=660 to page_67.txt\n",
      "Saved https://www.indeed.com/jobs?q=artificial+intelligence&l=United+States&start=670 to page_68.txt\n",
      "Saved https://www.indeed.com/jobs?q=artificial+intelligence&l=United+States&start=680 to page_69.txt\n",
      "Saved https://www.indeed.com/jobs?q=artificial+intelligence&l=United+States&start=690 to page_70.txt\n",
      "Saved https://www.indeed.com/jobs?q=artificial+intelligence&l=United+States&start=700 to page_71.txt\n",
      "Saved https://www.indeed.com/jobs?q=artificial+intelligence&l=United+States&start=710 to page_72.txt\n",
      "Saved https://www.indeed.com/jobs?q=artificial+intelligence&l=United+States&start=720 to page_73.txt\n",
      "Saved https://www.indeed.com/jobs?q=artificial+intelligence&l=United+States&start=730 to page_74.txt\n",
      "Saved https://www.indeed.com/jobs?q=artificial+intelligence&l=United+States&start=740 to page_75.txt\n",
      "Saved https://www.indeed.com/jobs?q=artificial+intelligence&l=United+States&start=750 to page_76.txt\n",
      "Saved https://www.indeed.com/jobs?q=artificial+intelligence&l=United+States&start=760 to page_77.txt\n",
      "Saved https://www.indeed.com/jobs?q=artificial+intelligence&l=United+States&start=770 to page_78.txt\n",
      "Saved https://www.indeed.com/jobs?q=artificial+intelligence&l=United+States&start=780 to page_79.txt\n",
      "Saved https://www.indeed.com/jobs?q=artificial+intelligence&l=United+States&start=790 to page_80.txt\n",
      "Saved https://www.indeed.com/jobs?q=artificial+intelligence&l=United+States&start=800 to page_81.txt\n",
      "Saved https://www.indeed.com/jobs?q=artificial+intelligence&l=United+States&start=810 to page_82.txt\n"
     ]
    },
    {
     "name": "stdout",
     "output_type": "stream",
     "text": [
      "Saved https://www.indeed.com/jobs?q=artificial+intelligence&l=United+States&start=820 to page_83.txt\n",
      "Saved https://www.indeed.com/jobs?q=artificial+intelligence&l=United+States&start=830 to page_84.txt\n",
      "Saved https://www.indeed.com/jobs?q=artificial+intelligence&l=United+States&start=840 to page_85.txt\n",
      "Saved https://www.indeed.com/jobs?q=artificial+intelligence&l=United+States&start=850 to page_86.txt\n",
      "Saved https://www.indeed.com/jobs?q=artificial+intelligence&l=United+States&start=860 to page_87.txt\n",
      "Saved https://www.indeed.com/jobs?q=artificial+intelligence&l=United+States&start=870 to page_88.txt\n",
      "Saved https://www.indeed.com/jobs?q=artificial+intelligence&l=United+States&start=880 to page_89.txt\n",
      "Saved https://www.indeed.com/jobs?q=artificial+intelligence&l=United+States&start=890 to page_90.txt\n",
      "Saved https://www.indeed.com/jobs?q=artificial+intelligence&l=United+States&start=900 to page_91.txt\n",
      "Saved https://www.indeed.com/jobs?q=artificial+intelligence&l=United+States&start=910 to page_92.txt\n",
      "Saved https://www.indeed.com/jobs?q=artificial+intelligence&l=United+States&start=920 to page_93.txt\n",
      "Saved https://www.indeed.com/jobs?q=artificial+intelligence&l=United+States&start=930 to page_94.txt\n",
      "Saved https://www.indeed.com/jobs?q=artificial+intelligence&l=United+States&start=940 to page_95.txt\n",
      "Saved https://www.indeed.com/jobs?q=artificial+intelligence&l=United+States&start=950 to page_96.txt\n",
      "Saved https://www.indeed.com/jobs?q=artificial+intelligence&l=United+States&start=960 to page_97.txt\n",
      "Saved https://www.indeed.com/jobs?q=artificial+intelligence&l=United+States&start=970 to page_98.txt\n",
      "Saved https://www.indeed.com/jobs?q=artificial+intelligence&l=United+States&start=980 to page_99.txt\n",
      "Saved https://www.indeed.com/jobs?q=artificial+intelligence&l=United+States&start=990 to page_100.txt\n",
      "Saved https://www.indeed.com/jobs?q=artificial+intelligence&l=United+States&start=1000 to page_101.txt\n"
     ]
    }
   ],
   "source": [
    "# Process each URL\n",
    "for i, url in enumerate(urls):\n",
    "    try:\n",
    "        # Navigate to the URL\n",
    "        driver.get(url)\n",
    "        \n",
    "        # Wait for the page to load\n",
    "        time.sleep(3)\n",
    "        \n",
    "        # Get the page source HTML\n",
    "        page_source = driver.page_source\n",
    "        \n",
    "        # Save the page source HTML to a .txt file\n",
    "        filename = f\"page_{i+1}.txt\"  # Use a unique filename for each URL\n",
    "        with open(filename, \"w\", encoding=\"utf-8\") as file:\n",
    "            file.write(page_source)\n",
    "        \n",
    "        print(f\"Saved {url} to {filename}\")\n",
    "\n",
    "    except Exception as e:\n",
    "        print(f\"Failed to process {url}: {e}\")\n",
    "\n",
    "# Close the driver\n",
    "driver.quit()"
   ]
  },
  {
   "cell_type": "code",
   "execution_count": 10,
   "id": "307e193d",
   "metadata": {},
   "outputs": [],
   "source": [
    "import os\n",
    "import shutil"
   ]
  },
  {
   "cell_type": "code",
   "execution_count": 12,
   "id": "40a2284c",
   "metadata": {},
   "outputs": [],
   "source": [
    "output_folder = \"txt_files\"\n",
    "source_folder = \".\"  \n",
    "destination_folder = output_folder"
   ]
  },
  {
   "cell_type": "code",
   "execution_count": 14,
   "id": "3ed54c7c",
   "metadata": {},
   "outputs": [],
   "source": [
    "for filename in os.listdir(source_folder):\n",
    "    if filename.startswith(\"page\") and filename.endswith(\".txt\"):\n",
    "        source_path = os.path.join(source_folder, filename)\n",
    "        destination_path = os.path.join(destination_folder, filename)\n",
    "        shutil.move(source_path, destination_path)\n",
    "        print(f\"Moved {filename} to {destination_folder}\")"
   ]
  },
  {
   "cell_type": "code",
   "execution_count": null,
   "id": "3bc2335b",
   "metadata": {},
   "outputs": [],
   "source": []
  }
 ],
 "metadata": {
  "kernelspec": {
   "display_name": "Python 3 (ipykernel)",
   "language": "python",
   "name": "python3"
  },
  "language_info": {
   "codemirror_mode": {
    "name": "ipython",
    "version": 3
   },
   "file_extension": ".py",
   "mimetype": "text/x-python",
   "name": "python",
   "nbconvert_exporter": "python",
   "pygments_lexer": "ipython3",
   "version": "3.11.4"
  }
 },
 "nbformat": 4,
 "nbformat_minor": 5
}
